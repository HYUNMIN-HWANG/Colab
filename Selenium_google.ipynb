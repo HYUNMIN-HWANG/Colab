{
  "nbformat": 4,
  "nbformat_minor": 0,
  "metadata": {
    "colab": {
      "name": "Selenium_google.ipynb",
      "private_outputs": true,
      "provenance": [],
      "authorship_tag": "ABX9TyNBzsEAqH82MUJE3rcULFG9",
      "include_colab_link": true
    },
    "kernelspec": {
      "name": "python3",
      "display_name": "Python 3"
    }
  },
  "cells": [
    {
      "cell_type": "markdown",
      "metadata": {
        "id": "view-in-github",
        "colab_type": "text"
      },
      "source": [
        "<a href=\"https://colab.research.google.com/github/HYUNMIN-HWANG/Colab/blob/main/Selenium_google.ipynb\" target=\"_parent\"><img src=\"https://colab.research.google.com/assets/colab-badge.svg\" alt=\"Open In Colab\"/></a>"
      ]
    },
    {
      "cell_type": "code",
      "metadata": {
        "id": "b2iixcu76-I4"
      },
      "source": [
        "pip install selenium"
      ],
      "execution_count": null,
      "outputs": []
    },
    {
      "cell_type": "code",
      "metadata": {
        "id": "mez0dsJW7wuM"
      },
      "source": [
        "# 실행시 등장하는 URL을 클릭하여 허용해주면 인증KEY가 나타난다. 복사하여 URL아래 빈칸에 붙여넣으면 마운트에 성공하게된다.\r\n",
        "from google.colab import drive\r\n",
        "drive.mount('./MyDrive')"
      ],
      "execution_count": null,
      "outputs": []
    },
    {
      "cell_type": "code",
      "metadata": {
        "id": "TfgC3iVL5Mjy"
      },
      "source": [
        "from selenium import webdriver\r\n",
        " \r\n",
        "path = \"/content/MyDrive/MyDrive/Colab/chromedriver_win32/chromedriver.exe\"    #웹드라이버가 있는 경로\r\n",
        "\r\n",
        "driver = webdriver.Chrome(path)        #웹드라이버가 있는 경로에서 Chrome을 가져와 실행-> driver변수\r\n",
        " \r\n",
        "driver.get('https://www.google.com')     #driver변수를 이용해 원하는 url 접속\r\n",
        " \r\n",
        "elem = driver.find_element_by_name(\"q\")     #q라는 요소를 찾아 반환(검색창)\r\n",
        " \r\n",
        "elem.clear()        #검색창의 default값 비우기\r\n",
        " \r\n",
        "elem.send_keys(\"Selenium\")      #현재 집중된 요소(elem)에 key를 날리기\r\n",
        " \r\n",
        "elem.submit()       #form제출하기(검색하기)\r\n"
      ],
      "execution_count": null,
      "outputs": []
    }
  ]
}