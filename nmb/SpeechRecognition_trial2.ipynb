{
  "nbformat": 4,
  "nbformat_minor": 0,
  "metadata": {
    "colab": {
      "name": "SpeechRecognition_trial2.ipynb",
      "private_outputs": true,
      "provenance": [],
      "collapsed_sections": [],
      "authorship_tag": "ABX9TyNAOaMsXgFJA5Q48KmaX+XW",
      "include_colab_link": true
    },
    "kernelspec": {
      "name": "python3",
      "display_name": "Python 3"
    }
  },
  "cells": [
    {
      "cell_type": "markdown",
      "metadata": {
        "id": "view-in-github",
        "colab_type": "text"
      },
      "source": [
        "<a href=\"https://colab.research.google.com/github/HYUNMIN-HWANG/Colab/blob/main/nmb/SpeechRecognition_trial2.ipynb\" target=\"_parent\"><img src=\"https://colab.research.google.com/assets/colab-badge.svg\" alt=\"Open In Colab\"/></a>"
      ]
    },
    {
      "cell_type": "code",
      "metadata": {
        "id": "QCJ1NRIxrtFD"
      },
      "source": [
        "pip install SpeechRecognition"
      ],
      "execution_count": null,
      "outputs": []
    },
    {
      "cell_type": "code",
      "metadata": {
        "id": "xBn1ntVKr3cd"
      },
      "source": [
        "import speech_recognition as sr\r\n",
        "print(sr.__version__)"
      ],
      "execution_count": null,
      "outputs": []
    },
    {
      "cell_type": "code",
      "metadata": {
        "id": "e3sdNzV_r9RE"
      },
      "source": [
        "r = sr.Recognizer()\r\n",
        "\r\n",
        "# 총 7가지의 API를 이용하여 음성인식을 할 수 있다.\r\n",
        "    # recognize_bing(): Microsoft Bing Speech\r\n",
        "    # recognize_google(): Google Web Speech API\r\n",
        "    # recognize_google_cloud(): Google Cloud Speech - requires installation of the google-cloud-speech package\r\n",
        "    # recognize_houndify(): Houndify by SoundHound\r\n",
        "    # recognize_ibm(): IBM Speech to Text\r\n",
        "    # recognize_sphinx(): CMU Sphinx - requires installing PocketSphinx\r\n",
        "    # recognize_wit(): Wit.ai\r\n",
        "\r\n",
        "# SpeechRedognition 패키지가 자원하는 오디오 파일 포맷 : WAV, AIFF, AIFF-C, FLAC\r\n"
      ],
      "execution_count": null,
      "outputs": []
    },
    {
      "cell_type": "code",
      "metadata": {
        "id": "3f5TtTY1u7AI"
      },
      "source": [
        "aaa = sr.AudioFile('/content/1_0001.wav')   # AudioData를 얻는다.\r\n",
        "with aaa as source :\r\n",
        "    audio = r.record(aaa, duration=1)       # duration=1 1초 간의 오디오 데이터가 저장된다.\r\n",
        "    audio1 = r.record(aaa, duration=1)      # 그 다음 1초 간의 오디오 데이터가 저장된다.\r\n",
        "    audio2 = r.record(aaa, duration=1)   \r\n",
        "type(audio) # speech_recognition.AudioData"
      ],
      "execution_count": null,
      "outputs": []
    },
    {
      "cell_type": "code",
      "metadata": {
        "id": "tQdE6nfpwAPu"
      },
      "source": [
        "# 음성을 인식한 결과를 출력해서 보여준다.\r\n",
        "r.recognize_google(audio, language=\"ko-KR\")\r\n"
      ],
      "execution_count": null,
      "outputs": []
    },
    {
      "cell_type": "code",
      "metadata": {
        "id": "jppBIdOfwn1B"
      },
      "source": [
        "r.recognize_google(audio1, language=\"ko-KR\")"
      ],
      "execution_count": null,
      "outputs": []
    },
    {
      "cell_type": "code",
      "metadata": {
        "id": "dsXA328w1Dcg"
      },
      "source": [
        "r.recognize_google(audio2, language=\"ko-KR\")"
      ],
      "execution_count": null,
      "outputs": []
    },
    {
      "cell_type": "code",
      "metadata": {
        "id": "NiGOu-4t1RXg"
      },
      "source": [
        "aaa = sr.AudioFile('/content/1_0001.wav')   # AudioData를 얻는다.\r\n",
        "with aaa as source :\r\n",
        "    audio3 = r.record(aaa, offset=1, duration=2)       # 1초부터 그 다음 2초간 오디오 데이터를 저장하고 있다.\r\n",
        "r.recognize_google(audio3, language=\"ko-KR\")"
      ],
      "execution_count": null,
      "outputs": []
    },
    {
      "cell_type": "markdown",
      "metadata": {
        "id": "8bVPzGxX40k6"
      },
      "source": [
        "## mp3 -> wav 로 변환"
      ]
    },
    {
      "cell_type": "code",
      "metadata": {
        "id": "4OIBZD064v0e"
      },
      "source": [
        "! pip install pydub"
      ],
      "execution_count": null,
      "outputs": []
    },
    {
      "cell_type": "code",
      "metadata": {
        "id": "8WRCvPpL4uBD"
      },
      "source": [
        "# mp3 파일 불러오기\r\n",
        "from pydub import AudioSegment\r\n",
        "\r\n",
        "downy_file = AudioSegment.from_mp3(\"/content/Downy Detergent launch KR.mp3\")\r\n",
        "type(downy_file)"
      ],
      "execution_count": null,
      "outputs": []
    },
    {
      "cell_type": "code",
      "metadata": {
        "id": "LbVS36Yp4y74"
      },
      "source": [
        "downy_file.export(out_f=\"/content/downy.wav\", format=\"wav\")"
      ],
      "execution_count": null,
      "outputs": []
    },
    {
      "cell_type": "markdown",
      "metadata": {
        "id": "O0YGa7L36SCw"
      },
      "source": [
        "## 소음있는 오디오 데이터 사용하기"
      ]
    },
    {
      "cell_type": "code",
      "metadata": {
        "id": "PseqZ63C67uP"
      },
      "source": [
        "# 소음 조정 전\r\n",
        "\r\n",
        "downy = sr.AudioFile('/content/downy.wav')\r\n",
        "with downy as source :\r\n",
        "    audio4 = r.record(source)\r\n",
        "r.recognize_google(audio4, language=\"ko-KR\")"
      ],
      "execution_count": null,
      "outputs": []
    },
    {
      "cell_type": "code",
      "metadata": {
        "id": "9V18CRHn47yG"
      },
      "source": [
        "# 소음 조정 후# 소음 조정 후\r\n",
        "\r\n",
        "downy = sr.AudioFile('/content/downy.wav')\r\n",
        "with downy as source :\r\n",
        "    r.adjust_for_ambient_noise(source, duration=0.5)    # duration 타임마다 소음을 제어하는 것 같다.\r\n",
        "    audio5 = r.record(source)\r\n",
        "r.recognize_google(audio5, language=\"ko-KR\")"
      ],
      "execution_count": null,
      "outputs": []
    },
    {
      "cell_type": "code",
      "metadata": {
        "id": "G2N6NXrj-BwM"
      },
      "source": [
        "# 원래는 the most likely transcription을 return 하는데, show_all=True 하면 구글에서 인식한 것 전체를 볼 수 있다.\r\n",
        "r.recognize_google(audio5, language=\"ko-KR\", show_all=True)"
      ],
      "execution_count": null,
      "outputs": []
    }
  ]
}