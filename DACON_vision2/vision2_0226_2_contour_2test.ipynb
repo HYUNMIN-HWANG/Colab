{
  "nbformat": 4,
  "nbformat_minor": 0,
  "metadata": {
    "colab": {
      "name": "vision2_0226_2_contour_2test.ipynb",
      "provenance": [],
      "collapsed_sections": [],
      "toc_visible": true,
      "machine_shape": "hm",
      "authorship_tag": "ABX9TyMKRio3R1ozM0nM6SAJlIiP",
      "include_colab_link": true
    },
    "kernelspec": {
      "name": "python3",
      "display_name": "Python 3"
    },
    "accelerator": "GPU"
  },
  "cells": [
    {
      "cell_type": "markdown",
      "metadata": {
        "id": "view-in-github",
        "colab_type": "text"
      },
      "source": [
        "<a href=\"https://colab.research.google.com/github/HYUNMIN-HWANG/Colab/blob/main/DACON_vision2/vision2_0226_2_contour_2test.ipynb\" target=\"_parent\"><img src=\"https://colab.research.google.com/assets/colab-badge.svg\" alt=\"Open In Colab\"/></a>"
      ]
    },
    {
      "cell_type": "code",
      "metadata": {
        "colab": {
          "base_uri": "https://localhost:8080/"
        },
        "id": "1QZu2YOy2j42",
        "outputId": "7f899f16-45f7-4cc8-e71f-7962fadf1a9f"
      },
      "source": [
        "from google.colab import drive\r\n",
        "drive.mount('./MyDrive')"
      ],
      "execution_count": null,
      "outputs": [
        {
          "output_type": "stream",
          "text": [
            "Mounted at ./MyDrive\n"
          ],
          "name": "stdout"
        }
      ]
    },
    {
      "cell_type": "markdown",
      "metadata": {
        "id": "tLOmKF2P3pos"
      },
      "source": [
        "# vision2 dirty test data 예측해보자"
      ]
    },
    {
      "cell_type": "code",
      "metadata": {
        "id": "RsDyq6TL2_bY"
      },
      "source": [
        "# warnings.filterwarnings(\"ignore\")\r\n",
        "import tensorflow as tf\r\n",
        "import numpy as np\r\n",
        "import pandas as pd\r\n",
        "import os\r\n",
        "from tensorflow.keras.optimizers import RMSprop, Adam\r\n",
        "from tensorflow.keras.models import Sequential, load_model\r\n",
        "from tensorflow.keras.layers import *\r\n",
        "from tensorflow.keras.models import Model\r\n",
        "from tensorflow.keras import optimizers\r\n",
        "import cv2\r\n",
        "import gc\r\n",
        "from keras import backend as bek\r\n",
        "from sklearn.model_selection import train_test_split, KFold\r\n",
        "from keras.preprocessing.image import ImageDataGenerator\r\n",
        "from keras.callbacks import EarlyStopping, ModelCheckpoint, ReduceLROnPlateau\r\n",
        "from tensorflow.keras.wrappers.scikit_learn import KerasClassifier\r\n",
        "from sklearn.model_selection import RandomizedSearchCV, GridSearchCV\r\n",
        "\r\n"
      ],
      "execution_count": null,
      "outputs": []
    },
    {
      "cell_type": "code",
      "metadata": {
        "id": "-AjTQlutbdOK"
      },
      "source": [
        "idg = ImageDataGenerator(height_shift_range=(-1,1), \r\n",
        "                        width_shift_range=(-1,1),\r\n",
        "                        rotation_range=120,\r\n",
        "                        fill_mode='nearest'\r\n",
        "                        )\r\n",
        "idg2 = ImageDataGenerator()"
      ],
      "execution_count": null,
      "outputs": []
    },
    {
      "cell_type": "code",
      "metadata": {
        "id": "Sugm5dAyT4GD"
      },
      "source": [
        "# 잘 예측하는지 확인 \r\n",
        "import matplotlib.pyplot as plt\r\n",
        "import matplotlib.image as img\r\n",
        "from glob import glob \r\n",
        "\r\n",
        "# submission\r\n",
        "sub = pd.read_csv('/content/MyDrive/MyDrive/Colab/DACON_vision2/sample_submission.csv')\r\n",
        "# print(sub.head())\r\n",
        "\r\n",
        "model = load_model('/content/MyDrive/MyDrive/Colab/DACON_vision2/cp/vision_0226_1_vison1_0.3941.hdf5') # <<-- 여기에 데이콘2 테스트 데이터를 넣어서 숫자를 예측한다.\r\n",
        "\r\n",
        "n = 50000\r\n",
        "row = 0\r\n",
        "for i in range(5000) :\r\n",
        "    test_img=glob(f'/content/MyDrive/MyDrive/Colab/DACON_vision2/contour/{n}_*.png')\r\n",
        "    print(len(test_img))\r\n",
        "\r\n",
        "    predict_list = []\r\n",
        "\r\n",
        "    for img in test_img :\r\n",
        "        pred_img = cv2.imread(img) # \r\n",
        "\r\n",
        "        # print(pred_img.shape)   # (64, 64, 3)\r\n",
        "        plt.imshow(pred_img)\r\n",
        "        cv2.waitKey(0)\r\n",
        "\r\n",
        "        pred_img = pred_img.astype('float32')\r\n",
        "        pred_img = cv2.resize(pred_img, (56,56))\r\n",
        "        # print(pred_img.shape)   # (56, 56)\r\n",
        "\r\n",
        "        pred_img = pred_img.reshape(1, pred_img.shape[0], pred_img.shape[1], pred_img.shape[2])/255.\r\n",
        "        # print(pred_img.shape)   # (1, 56, 56, 3)\r\n",
        "        pred_generator = idg2.flow(pred_img, shuffle=False)\r\n",
        "\r\n",
        "        result = model.predict_generator(pred_generator, verbose=True)\r\n",
        "        print(result.max())\r\n",
        "        if result.max() < 0.6 : # 최대 예측값이 60%를 넘지 않는다면 이상한 문자이므로 패쓰한다.\r\n",
        "            pass\r\n",
        "        else :\r\n",
        "            result_max = result.argmax(1)[0]\r\n",
        "            print(result_max) \r\n",
        "            predict_list.append(result_max)\r\n",
        "\r\n",
        "    # 중복값 제거하기 위해서 집합으로 만들었다가 리스트로 변환\r\n",
        "    predict_set = set(predict_list)\r\n",
        "    predict_list = list(predict_set)\r\n",
        "    print(predict_list)\r\n",
        "\r\n",
        "    # submission 형태로 만들기\r\n",
        "    result = np.zeros((1,26), dtype=np.int8)\r\n",
        "    # print(result)\r\n",
        "\r\n",
        "    for idx in predict_list :\r\n",
        "        result[0][idx] = 1\r\n",
        "    print(result)\r\n",
        "\r\n",
        "    sub.iloc[row][1:] = result[0]\r\n",
        "    sub.to_csv('/content/MyDrive/MyDrive/Colab/DACON_vision2/sub_0227_2.csv', index=False)\r\n",
        "    print(sub.head())\r\n",
        "\r\n",
        "    n += 1\r\n",
        "    row += 1\r\n",
        "\r\n",
        "print(\"==Done==\")"
      ],
      "execution_count": null,
      "outputs": []
    }
  ]
}