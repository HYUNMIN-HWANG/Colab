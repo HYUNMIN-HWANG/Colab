{
  "nbformat": 4,
  "nbformat_minor": 0,
  "metadata": {
    "colab": {
      "name": "OpenCV_4_drawing.ipynb",
      "provenance": [],
      "collapsed_sections": [],
      "toc_visible": true,
      "machine_shape": "hm",
      "authorship_tag": "ABX9TyMYSx1b7ciplrChMUKhm9Q8",
      "include_colab_link": true
    },
    "kernelspec": {
      "name": "python3",
      "display_name": "Python 3"
    },
    "accelerator": "GPU"
  },
  "cells": [
    {
      "cell_type": "markdown",
      "metadata": {
        "id": "view-in-github",
        "colab_type": "text"
      },
      "source": [
        "<a href=\"https://colab.research.google.com/github/HYUNMIN-HWANG/Colab/blob/main/OpenCV/OpenCV_4_drawing.ipynb\" target=\"_parent\"><img src=\"https://colab.research.google.com/assets/colab-badge.svg\" alt=\"Open In Colab\"/></a>"
      ]
    },
    {
      "cell_type": "markdown",
      "metadata": {
        "id": "WU0dIhNDZlMm"
      },
      "source": [
        "# OpenCV Course\r\n",
        "# Full Tutorial with Python\r\n",
        "link : https://www.youtube.com/watch?v=oXlwWbU8l2o"
      ]
    },
    {
      "cell_type": "code",
      "metadata": {
        "colab": {
          "base_uri": "https://localhost:8080/"
        },
        "id": "Si5i2jKGkJaC",
        "outputId": "94e907c8-4634-4eb7-e47a-e8d4eba97de7"
      },
      "source": [
        "from google.colab import drive\r\n",
        "drive.mount('./MyDrive')"
      ],
      "execution_count": 1,
      "outputs": [
        {
          "output_type": "stream",
          "text": [
            "Mounted at ./MyDrive\n"
          ],
          "name": "stdout"
        }
      ]
    },
    {
      "cell_type": "code",
      "metadata": {
        "colab": {
          "base_uri": "https://localhost:8080/",
          "height": 286
        },
        "id": "Bwm4rQ3GtQ-0",
        "outputId": "9a19d09f-80e6-44ec-cd9c-ba8c568013f8"
      },
      "source": [
        "import cv2 as cv\r\n",
        "import matplotlib.pyplot as plt\r\n",
        "import numpy as np\r\n",
        "\r\n",
        "blank = np.zeros((500,500,3), dtype='uint8')\r\n",
        "plt.imshow(blank)\r\n",
        "\r\n",
        "#1. Paint the image a certain colour\r\n",
        "# blank[:] = 0,255,0  # Green\r\n",
        "# blank[200:300, 300:400] = 0,0,255  # Red : 일부 사각형만 색 변경\r\n",
        "# plt.imshow(blank)  \r\n",
        "\r\n",
        "#2. Draw a Rectangle\r\n",
        "# cv.rectangle(blank, (0,0), (250,300), (0,250,0),thickness=2)  # 선 두께 = 2\r\n",
        "# cv.rectangle(blank, (0,0), (250,300), (0,250,0),thickness=cv.FILLED) # 선 두께 = 도형채우기\r\n",
        "cv.rectangle(blank, (0,0), (250,300), (0,250,0),thickness=-1) # 선 두께 = 도형채우기\r\n",
        "cv.rectangle(blank, (0,0), (blank.shape[1]//2, blank.shape[0]//2), (0,250,0),thickness=-1) # 사각형 크기 지정하는 방법\r\n",
        "                    # 시작 # 사각형 크기  # 선 색깔   \r\n",
        "plt.imshow(blank)  \r\n",
        "\r\n",
        "#3. Draw a Circle\r\n",
        "cv.circle(blank, (blank.shape[1]//2, blank.shape[0]//2),40,(0,0,255),thickness=-1 )\r\n",
        "                # 시작 점                               # 반지름 픽셀   # 색상\r\n",
        "plt.imshow(blank)\r\n",
        "\r\n",
        "#4. Draw a Line\r\n",
        "cv.line(blank, (0,0), (blank.shape[1]//2, blank.shape[0]//2),(255,255,255),thickness=3 )\r\n",
        "                # 직선 시작 점 @ 직선 끝 점                 # 색상          # 두께\r\n",
        "plt.imshow(blank)\r\n",
        "\r\n",
        "#5. Write text\r\n",
        "cv.putText(blank, 'Hello, my name is HYUNMIN', (10,225), cv.FONT_HERSHEY_TRIPLEX, 0.8,(225, 255,0), thickness=2)\r\n",
        "                # 적을 글자,                    # 글자 시작점   # 폰트          # 폰트 크기 # 색상\r\n",
        "plt.imshow(blank)\r\n",
        "\r\n",
        "# delay\r\n",
        "cv.waitKey(0)"
      ],
      "execution_count": 31,
      "outputs": [
        {
          "output_type": "execute_result",
          "data": {
            "text/plain": [
              "-1"
            ]
          },
          "metadata": {
            "tags": []
          },
          "execution_count": 31
        },
        {
          "output_type": "display_data",
          "data": {
            "image/png": "[encoded data removed]",
            "text/plain": [
              "<Figure size 432x288 with 1 Axes>"
            ]
          },
          "metadata": {
            "tags": [],
            "needs_background": "light"
          }
        }
      ]
    }
  ]
}