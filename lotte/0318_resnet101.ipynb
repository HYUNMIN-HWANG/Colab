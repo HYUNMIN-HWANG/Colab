{
  "nbformat": 4,
  "nbformat_minor": 0,
  "metadata": {
    "colab": {
      "name": "0318_resnet101.ipynb",
      "provenance": [],
      "collapsed_sections": [],
      "machine_shape": "hm",
      "authorship_tag": "ABX9TyMNzEuQe9D6yThOygtdwyFv",
      "include_colab_link": true
    },
    "kernelspec": {
      "name": "python3",
      "display_name": "Python 3"
    },
    "accelerator": "TPU"
  },
  "cells": [
    {
      "cell_type": "markdown",
      "metadata": {
        "id": "view-in-github",
        "colab_type": "text"
      },
      "source": [
        "<a href=\"https://colab.research.google.com/github/HYUNMIN-HWANG/Colab/blob/main/lotte/0318_resnet101.ipynb\" target=\"_parent\"><img src=\"https://colab.research.google.com/assets/colab-badge.svg\" alt=\"Open In Colab\"/></a>"
      ]
    },
    {
      "cell_type": "code",
      "metadata": {
        "colab": {
          "base_uri": "https://localhost:8080/"
        },
        "id": "eVJw4T49wiMr",
        "outputId": "c167d10b-d58e-483b-b003-fcb0d8b73e6f"
      },
      "source": [
        "from google.colab import drive\r\n",
        "drive.mount('./MyDrive')"
      ],
      "execution_count": 1,
      "outputs": [
        {
          "output_type": "stream",
          "text": [
            "Mounted at ./MyDrive\n"
          ],
          "name": "stdout"
        }
      ]
    },
    {
      "cell_type": "code",
      "metadata": {
        "id": "Jkcx6XtZwN8n"
      },
      "source": [
        "import numpy as np\r\n",
        "from tensorflow.keras.preprocessing.image import ImageDataGenerator, load_img\r\n",
        "from sklearn.model_selection import train_test_split, KFold, RandomizedSearchCV\r\n",
        "from sklearn.pipeline import Pipeline\r\n",
        "import cv2 as cv\r\n",
        "from glob import glob\r\n",
        "import matplotlib.pyplot as plt\r\n",
        "import os\r\n",
        "from tensorflow.keras.applications import EfficientNetB0, InceptionV3, MobileNet, ResNet50, ResNet101, ResNet50V2\r\n",
        "from tensorflow.keras.applications.inception_v3 import preprocess_input\r\n",
        "import pandas as pd\r\n",
        "from tensorflow.keras.layers import Dense, Flatten, GlobalAveragePooling2D, Dropout\r\n",
        "from tensorflow.keras.models import Sequential, load_model, Model\r\n",
        "from tensorflow.keras.callbacks import EarlyStopping, ReduceLROnPlateau, ModelCheckpoint\r\n",
        "from tensorflow.keras.optimizers import Adam, RMSprop\r\n",
        "from sklearn.model_selection import train_test_split\r\n",
        "from tensorflow.keras.utils import to_categorical\r\n",
        "import datetime \r\n"
      ],
      "execution_count": 2,
      "outputs": []
    },
    {
      "cell_type": "code",
      "metadata": {
        "colab": {
          "base_uri": "https://localhost:8080/"
        },
        "id": "qpJct6sbwfXi",
        "outputId": "666ed8a4-1e5f-4676-f97d-769857f400c7"
      },
      "source": [
        "\r\n",
        "### npy load\r\n",
        "x_train = np.load('/content/MyDrive/MyDrive/Colab/lotte/data_x_train4.npy', allow_pickle=True)\r\n",
        "print(x_train.shape)    # (48000, 100, 100, 3)\r\n",
        "y_train = np.load('/content/MyDrive/MyDrive/Colab/lotte/data_y_train4.npy', allow_pickle=True)\r\n",
        "print(y_train.shape)    # (48000,)\r\n",
        "x_pred = np.load('/content/MyDrive/MyDrive/Colab/lotte/data_x_pred4.npy', allow_pickle=True)\r\n",
        "print(x_pred.shape)     # (72000, 100, 100, 3)\r\n"
      ],
      "execution_count": 3,
      "outputs": [
        {
          "output_type": "stream",
          "text": [
            "(48000, 100, 100, 3)\n",
            "(48000,)\n",
            "(72000, 100, 100, 3)\n"
          ],
          "name": "stdout"
        }
      ]
    },
    {
      "cell_type": "code",
      "metadata": {
        "id": "6IoqytkAxGPk"
      },
      "source": [
        "start_now = datetime.datetime.now()\r\n",
        "\r\n",
        "#1. DATA\r\n",
        "# preprocess\r\n",
        "x_train = preprocess_input(x_train)\r\n",
        "x_pred = preprocess_input(x_pred)\r\n",
        "\r\n",
        "y_train = to_categorical(y_train)\r\n",
        "\r\n",
        "x_train, x_valid, y_train, y_valid = train_test_split(x_train, y_train, train_size=0.8, shuffle=True, random_state=42)\r\n",
        "print(x_train.shape, x_valid.shape)  # (38400, 100, 100, 3) (9600, 100, 100, 3)\r\n",
        "print(y_train.shape, y_valid.shape)  # (38400, 1000) (9600, 1000)\r\n",
        "\r\n",
        "\r\n",
        "train_datagen = ImageDataGenerator(\r\n",
        "    width_shift_range=0.1,\r\n",
        "    height_shift_range=0.1,\r\n",
        "    fill_mode='nearest'\r\n",
        ")\r\n",
        "\r\n",
        "test_datagen = ImageDataGenerator()\r\n",
        "\r\n",
        "batch = 16\r\n",
        "train_generator = train_datagen.flow(x_train, y_train, batch_size=batch )\r\n",
        "valid_generator = test_datagen.flow(x_valid, y_valid, batch_size=batch )\r\n",
        "pred_generator = test_datagen.flow(x_pred, shuffle=False)\r\n",
        "\r\n",
        "#2. Modeling\r\n",
        "transfer = InceptionV3(weights=\"imagenet\", include_top=False, input_shape=(100, 100, 3))\r\n",
        "for layer in transfer.layers:\r\n",
        "        layer.trainable = False\r\n",
        "top_model = transfer.output\r\n",
        "top_model = GlobalAveragePooling2D()(top_model)\r\n",
        "top_model = Flatten()(top_model)\r\n",
        "top_model = Dense(1024, activation=\"relu\")(top_model)\r\n",
        "top_model = Dropout(0.2) (top_model)\r\n",
        "top_model = Dense(1000, activation=\"softmax\")(top_model)\r\n",
        "model = Model(inputs=transfer.input, outputs = top_model)\r\n",
        "model.summary()\r\n",
        "\r\n",
        "#3. Compile, Train, Evaluate\r\n",
        "es = EarlyStopping(monitor='val_loss', patience=20, mode='min')\r\n",
        "lr = ReduceLROnPlateau(monitor='val_loss', patience=10, factor=0.06)\r\n",
        "path = '/content/MyDrive/MyDrive/Colab/lotte/cp/cp_0318_1_resnet.hdf5'\r\n",
        "cp = ModelCheckpoint(path, monitor='val_loss', save_best_only=True, mode='min')\r\n",
        "\r\n",
        "model.compile(loss='categorical_crossentropy', optimizer=Adam(lr=0.001), metrics=['accuracy'])\r\n",
        "model.fit_generator(train_generator, epochs=100, steps_per_epoch = len(x_train) // batch ,\r\n",
        "    validation_data=valid_generator, callbacks=[es, lr, cp])\r\n",
        "\r\n",
        "model.save('/content/MyDrive/MyDrive/Colab/lotte/cp/cp_0318_1_resnet_model.hdf5')\r\n",
        "model.save_weights('/content/MyDrive/MyDrive/Colab/lotte/cp/cp_0318_1_resnet_weights.h5')\r\n",
        "\r\n",
        "result = model.evaluate(valid_generator, batch_size=batch)\r\n",
        "print(\"loss \", result[0])\r\n",
        "print(\"acc \", result[1])\r\n",
        "\r\n",
        "\r\n",
        "#4. Predict\r\n",
        "submission = pd.read_csv('/content/MyDrive/MyDrive/Colab/lotte/sample.csv', index_col=0)\r\n",
        "# print(submission.shape) # (72000, 2)\r\n",
        "\r\n",
        "model = load_model('/content/MyDrive/MyDrive/Colab/lotte/cp/cp_0318_1_resnet.hdf5')\r\n",
        "model.summary()\r\n",
        "\r\n",
        "result = model.evaluate(valid_generator, batch_size=batch)\r\n",
        "print(\"loss \", result[0])\r\n",
        "print(\"acc \", result[1])\r\n",
        "\r\n",
        "# loss  0.989698588848114\r\n",
        "# acc  0.7516666650772095\r\n",
        "\r\n",
        "\r\n",
        "print(\"predict >>>>>>>>>>>>>> \")\r\n",
        "\r\n",
        "result = model.predict(pred_generator, verbose=True)\r\n",
        "print(result.shape) # (72000, 1000)\r\n",
        "print(np.argmax(result, axis = 1))\r\n",
        "\r\n",
        "submission['prediction'] = np.argmax(result, axis = 1)\r\n",
        "submission.to_csv('/content/MyDrive/MyDrive/Colab/lotte/colab_0318_1.csv',index=True)\r\n",
        "\r\n",
        "end_now = datetime.datetime.now()\r\n",
        "time = end_now - start_now\r\n",
        "print(\"time >> \" , time)    # time >\r\n",
        "\r\n",
        "# score 32.740"
      ],
      "execution_count": null,
      "outputs": []
    }
  ]
}