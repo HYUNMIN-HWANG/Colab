{
  "nbformat": 4,
  "nbformat_minor": 0,
  "metadata": {
    "colab": {
      "name": "GPT Neo_clone.ipynb",
      "private_outputs": true,
      "provenance": [],
      "collapsed_sections": [],
      "toc_visible": true,
      "authorship_tag": "ABX9TyP/MrB9LHafa8mEMbFrHAaj",
      "include_colab_link": true
    },
    "kernelspec": {
      "name": "python3",
      "display_name": "Python 3"
    },
    "language_info": {
      "name": "python"
    },
    "accelerator": "GPU"
  },
  "cells": [
    {
      "cell_type": "markdown",
      "metadata": {
        "id": "view-in-github",
        "colab_type": "text"
      },
      "source": [
        "<a href=\"https://colab.research.google.com/github/HYUNMIN-HWANG/Colab/blob/main/GPT_Neo_clone.ipynb\" target=\"_parent\"><img src=\"https://colab.research.google.com/assets/colab-badge.svg\" alt=\"Open In Colab\"/></a>"
      ]
    },
    {
      "cell_type": "markdown",
      "metadata": {
        "id": "2mAf1X3ehwAG"
      },
      "source": [
        "참고영상 링크 > [AI Text and Code Generation with GPT Neo and Python | GPT3 Clone](https://youtu.be/6MI0f6YjJIk) "
      ]
    },
    {
      "cell_type": "markdown",
      "metadata": {
        "id": "skTB3qj-c_lE"
      },
      "source": [
        "# 1. Install and Import Dependencies"
      ]
    },
    {
      "cell_type": "code",
      "metadata": {
        "id": "-0rvxrhPdJbw"
      },
      "source": [
        "!pip3 install torch==1.8.1+cu111 torchvision==0.9.1+cu111 torchaudio===0.8.1 -f https://download.pytorch.org/whl/torch_stable.html"
      ],
      "execution_count": null,
      "outputs": []
    },
    {
      "cell_type": "code",
      "metadata": {
        "id": "jPm9nVwkdozq"
      },
      "source": [
        "!pip install transformers"
      ],
      "execution_count": null,
      "outputs": []
    },
    {
      "cell_type": "code",
      "metadata": {
        "id": "4-LIQVhPd10X"
      },
      "source": [
        "from transformers import pipeline   "
      ],
      "execution_count": null,
      "outputs": []
    },
    {
      "cell_type": "markdown",
      "metadata": {
        "id": "2CqQh_VNdBwk"
      },
      "source": [
        "\n",
        "# 2. Setup Generator\n"
      ]
    },
    {
      "cell_type": "code",
      "metadata": {
        "id": "t8xNwGo_eH3R"
      },
      "source": [
        "generator = pipeline(\"text-generation\", model='EleutherAI/gpt-neo-2.7B')"
      ],
      "execution_count": null,
      "outputs": []
    },
    {
      "cell_type": "markdown",
      "metadata": {
        "id": "6r-Al1ZpdDrz"
      },
      "source": [
        "\n",
        "# 3. Generate Text using Prompt\n"
      ]
    },
    {
      "cell_type": "code",
      "metadata": {
        "id": "Cv7nCk2XetJT"
      },
      "source": [
        "prompt = \"What is the meaning of life?\""
      ],
      "execution_count": null,
      "outputs": []
    },
    {
      "cell_type": "code",
      "metadata": {
        "id": "G43bQ4KTe948"
      },
      "source": [
        "res = generator(prompt, max_length=20, do_sample=True, temperature=0.9 )"
      ],
      "execution_count": null,
      "outputs": []
    },
    {
      "cell_type": "markdown",
      "metadata": {
        "id": "9sKOzPC8dFcs"
      },
      "source": [
        "# 4. Output Text\n"
      ]
    },
    {
      "cell_type": "code",
      "metadata": {
        "id": "aLeL6YeTfzjA"
      },
      "source": [
        "res"
      ],
      "execution_count": null,
      "outputs": []
    },
    {
      "cell_type": "code",
      "metadata": {
        "id": "xHCUAe8egJOV"
      },
      "source": [
        "print(res[0]['generated_text'])"
      ],
      "execution_count": null,
      "outputs": []
    },
    {
      "cell_type": "code",
      "metadata": {
        "id": "-hNQoPG4hHJp"
      },
      "source": [
        "# gpt로 생성한 텍스트를 저장한다.\n",
        "with open('gpttest.txt', 'w') as f :\n",
        "    f.writelines(res[0]['generated_text'])"
      ],
      "execution_count": null,
      "outputs": []
    }
  ]
}