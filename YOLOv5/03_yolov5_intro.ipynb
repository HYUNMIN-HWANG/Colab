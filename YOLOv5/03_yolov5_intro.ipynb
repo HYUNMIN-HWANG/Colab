{
  "nbformat": 4,
  "nbformat_minor": 0,
  "metadata": {
    "colab": {
      "name": "03.yolov5_intro.ipynb",
      "provenance": [],
      "collapsed_sections": [],
      "machine_shape": "hm",
      "authorship_tag": "ABX9TyNbNxBPjNDX4RgciPL5iGbG",
      "include_colab_link": true
    },
    "kernelspec": {
      "name": "python3",
      "display_name": "Python 3"
    },
    "accelerator": "GPU"
  },
  "cells": [
    {
      "cell_type": "markdown",
      "metadata": {
        "id": "view-in-github",
        "colab_type": "text"
      },
      "source": [
        "<a href=\"https://colab.research.google.com/github/HYUNMIN-HWANG/Colab/blob/main/YOLOv5/03_yolov5_intro.ipynb\" target=\"_parent\"><img src=\"https://colab.research.google.com/assets/colab-badge.svg\" alt=\"Open In Colab\"/></a>"
      ]
    },
    {
      "cell_type": "code",
      "metadata": {
        "id": "j22K5nHOC17H"
      },
      "source": [
        "from google.colab import drive\r\n",
        "drive.mount('/gdrive', force_remount=True)"
      ],
      "execution_count": null,
      "outputs": []
    },
    {
      "cell_type": "markdown",
      "metadata": {
        "id": "DPGtTvJefGeU"
      },
      "source": [
        "쥬피터 노트북 매직 명령어\r\n",
        "- 참고페이지 : https://antilibrary.org/2265\r\n",
        "- %\r\n",
        "> line magics : 싱글 라인에서 작동\r\n",
        "> - %pwd : 현재의 폴더 경로\r\n",
        "> - %ls : 현재 폴더에 있는 폴더와 파일들을 보여줌\r\n",
        "> - %cd : change directory , 이동하고 싶은 폴더로 이동함\r\n",
        "> - %cat : 파일이름을 인자로 받아서 해당 내용을 쭉 보여준다.\r\n",
        "\r\n",
        "\r\n",
        "\r\n",
        "\r\n",
        "- %%\r\n",
        "> cell magics : 여러 줄, 전체 셀에서 작동\r\n",
        "\r\n"
      ]
    },
    {
      "cell_type": "code",
      "metadata": {
        "id": "NRfHh8_214G4"
      },
      "source": [
        "# yolov5 클론\r\n",
        "%cd /content/\r\n",
        "# %cd : 해당 폴더로 이동 \r\n",
        "!git clone https://github.com/ultralytics/yolov5.git"
      ],
      "execution_count": null,
      "outputs": []
    },
    {
      "cell_type": "code",
      "metadata": {
        "id": "GjP1sZiZ2N0I"
      },
      "source": [
        "# yolov5에 필요한 패키지 설치\r\n",
        "%cd /content/yolov5/    \r\n",
        "\r\n",
        "!pip install -r requirements.txt\r\n",
        "# ! 의미 : 최근 실행했던 순으로 해당 문자열에 매칭되는 명령을 찾아서 실행한다.\r\n",
        "\r\n",
        "# pillow : python image library, 이미지 파일 포맷을 지원, 이미지 내부 데이터를 엑세스할 수 있음, 이미지 처리 기능 제공함\r\n",
        "# pyYAML : YAML 파일을 가져와 읽거나 쓸 수 있다.\r\n",
        "# Scipy  : 과학기술계산을 위한 라이브러리, 넘파이와 연결되어 있다.\r\n",
        "# torch\r\n",
        "# tqdm   : 진행표시바 표시하기\r\n",
        "# seaborn : 데이터 시각화\r\n",
        "# thop   : \r\n",
        "# pycocotools : 물체인식을 위해 고안된 가장 대표적인 예시 "
      ],
      "execution_count": null,
      "outputs": []
    },
    {
      "cell_type": "code",
      "metadata": {
        "id": "h7IIWZOJNge3"
      },
      "source": [
        "# 압축 풀고 이미지 폴더에 저장\r\n",
        "!unzip -uq \"/content/MyDrive/MyDrive/Colab/project01/all.zip\" -d \"/content/MyDrive/MyDrive/Colab/project01/all_image\""
      ],
      "execution_count": null,
      "outputs": []
    },
    {
      "cell_type": "code",
      "metadata": {
        "id": "hIu2tB-s0v2p",
        "colab": {
          "base_uri": "https://localhost:8080/"
        },
        "outputId": "d60f7078-84e2-4b46-9b1d-c4ae2351f173"
      },
      "source": [
        "# 전체 이미지 로드\r\n",
        "from glob import glob\r\n",
        "\r\n",
        "all_list = glob('/content/MyDrive/MyDrive/Colab/project01/sorting_correct_all/*.jpg')\r\n",
        "\r\n",
        "print(len(all_list))   # 3162"
      ],
      "execution_count": 1,
      "outputs": [
        {
          "output_type": "stream",
          "text": [
            "0\n"
          ],
          "name": "stdout"
        }
      ]
    },
    {
      "cell_type": "code",
      "metadata": {
        "colab": {
          "base_uri": "https://localhost:8080/"
        },
        "id": "8-H5XD1L2T3B",
        "outputId": "680b24ec-35e4-4b12-adba-c8d254c3e507"
      },
      "source": [
        "# data.yaml에 무엇이 있는지 확인\r\n",
        "%cat /content/MyDrive/MyDrive/Colab/project01/yolo_yaml/image_label_data.yaml"
      ],
      "execution_count": null,
      "outputs": [
        {
          "output_type": "stream",
          "text": [
            "shell-init: error retrieving current directory: getcwd: cannot access parent directories: No such file or directory\n",
            "# train and val data as 1) directory: path/images/, 2) file: path/images.txt, or 3) list: [path1/images/, path2/images/]\r\n",
            "train: ../train/images\r\n",
            "test: ../test/images\r\n",
            "val: ../val/images\r\n",
            "\r\n",
            "# number of classes\r\n",
            "nc: 24\r\n",
            "\r\n",
            "# class namesa\r\n",
            "names: ['dog', 'person', 'cat', 'tv', 'car', 'meatballs', 'marinara sauce', 'tomato soup', 'chicken noodle soup', \r\n",
            "\t'french onion soup', 'chicken breast', 'ribs', 'pulled pork', 'hamburger', 'cavity', 'can', 'cocacola', 'fanta', \r\n",
            "\t'letsbe', 'letsbe_E', 'pocari', 'sprite', 'tejava_k', 'tejava_e']\r\n",
            "\r\n"
          ],
          "name": "stdout"
        }
      ]
    },
    {
      "cell_type": "code",
      "metadata": {
        "id": "qu5f_5W-RhOj"
      },
      "source": [
        "# train set와 vlidation set으로 나눈다.\r\n",
        "from sklearn.model_selection import  train_test_split\r\n",
        "train_img_list, val_img_list = train_test_split(all_list, test_size=0.q, random_state=42)\r\n",
        "\r\n",
        "print(len(train_img_list), len(val_img_list))   # train :  2376장 // test :  595장"
      ],
      "execution_count": null,
      "outputs": []
    },
    {
      "cell_type": "code",
      "metadata": {
        "id": "EM9VPgapaY_t"
      },
      "source": [
        "# train img와 val img 이미지 경로를 txt 파일로 저장\r\n",
        "with open('content/dataset/train.txt', 'w') as f :          # 이미지 경로들이 txt파일에 한 줄씩 저장되어 있음\r\n",
        "    f.write('\\n'.join(train_img_list)+'\\n')\r\n",
        "with open('/content/dataset/val.txt', 'w') as f :   \r\n",
        "    f.write('\\n'.join(val_img_list)+'\\n')"
      ],
      "execution_count": null,
      "outputs": []
    },
    {
      "cell_type": "code",
      "metadata": {
        "id": "0_qcNbVnacrv"
      },
      "source": [
        "# yaml 파일 수정 : train에 train.txt.를 넣고 val에 val.txt. 를 넣는다.\r\n",
        "\r\n",
        "import yaml\r\n",
        "\r\n",
        "with open('/content/MyDrive/MyDrive/Colab/project01/yolo_yaml/image_label_data.yaml', 'r') as f :\r\n",
        "    data = yaml.load(f)\r\n",
        "\r\n",
        "print(data)\r\n",
        "# {'train': '../train/images', 'val': '../valid/images', 'nc': 1, 'names': ['pistol']}\r\n",
        "\r\n",
        "data['train'] = '/content/MyDrive/MyDrive/Colab/project01/yolo_yaml/train.txt'\r\n",
        "data['val'] = '/content/MyDrive/MyDrive/Colab/project01/yolo_yaml/val.txt'\r\n",
        "\r\n",
        "with open('/content/MyDrive/MyDrive/Colab/project01/yolo_yaml/image_label_data.yaml','w') as f :\r\n",
        "    yaml.dump(data, f)\r\n",
        "\r\n",
        "print(data)\r\n",
        "# {'train': '/content/dataset/train.txt', 'val': '/content/dataset/val.txt', 'nc': 1, 'names': ['pistol']}"
      ],
      "execution_count": null,
      "outputs": []
    },
    {
      "cell_type": "code",
      "metadata": {
        "id": "fqS_WiddbBQk"
      },
      "source": [
        "# 훈련시키기\r\n",
        "%cd /content/yolov5\r\n",
        "\r\n",
        "!python train.py --img 416 --batch 16 --epochs 50 --data /content/MyDrive/MyDrive/Colab/project01/yolo_yaml/image_label_data.yaml --cfg ./models/yolov5s.yaml --weights yolov5s.pt --name drink_yolov5s_results\r\n",
        "                # 이미지 크기 # 배치사이즈 # 에촉 # 데이터 경로                         # 모델 구조             # 가중치            # 이름지정"
      ],
      "execution_count": null,
      "outputs": []
    },
    {
      "cell_type": "code",
      "metadata": {
        "id": "K_1ooPYsbWfF"
      },
      "source": [
        "# 텐서보드로 학습 결과 보기\r\n",
        "%load_ext tensorboard\r\n",
        "%tensorboard --logdir /content/yolov5/runs/"
      ],
      "execution_count": null,
      "outputs": []
    },
    {
      "cell_type": "code",
      "metadata": {
        "id": "y4h8PxSFbXbC"
      },
      "source": [
        "# 출력 결과물 : 이미지 & 음성파일\r\n",
        "from IPython.display import Audio\r\n",
        "import os\r\n",
        "import matplotlib.pyplot as plt\r\n",
        "import matplotlib.image as img\r\n",
        "import time\r\n",
        "\r\n",
        "# val_img_path = val_img_list[20]\r\n",
        "val_img_path =  '/content/yolov5/MyDrive/MyDrive/20210221_143226.jpg' # 예측하고 싶은 이미지의 경로 입력\r\n",
        "\r\n",
        "!python 04.detect2.py --weights /content/yolov5/MyDrive/MyDrive/Colab/project01/yolov5_2s/best.pt --img 416 --conf 0.5 --source \"{val_img_path}\"   \r\n",
        "\r\n",
        "\r\n",
        "result = img.imread(os.path.join('/content/yolov5/runs/detect/exp',os.path.basename(val_img_path)))\r\n",
        "plt.imshow(result)\r\n",
        "plt.show()\r\n",
        "time.sleep(5)\r\n",
        "\r\n",
        "Audio('/content/yolov5/labelEN.mp3', rate=44100 ,autoplay=True)"
      ],
      "execution_count": null,
      "outputs": []
    },
    {
      "cell_type": "markdown",
      "metadata": {
        "id": "yVMP64V2xwTw"
      },
      "source": [
        "gtts (google Text-to-Speech) :\r\n",
        "텍스트를 음성 파일로 변환\r\n",
        "\r\n",
        "import os : 운영체제(OS : Operating System)를 제어할 수가 있지요. 우리가 Windows로 파일과 폴더를 만들고 복사하는 일들도 os 모듈로 할 수 있습니다.\r\n",
        "\r\n"
      ]
    }
  ]
}